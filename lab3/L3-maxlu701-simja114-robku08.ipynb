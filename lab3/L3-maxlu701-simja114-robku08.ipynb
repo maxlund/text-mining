{
 "cells": [
  {
   "cell_type": "markdown",
   "metadata": {},
   "source": [
    "# L3: Topic Models\n",
    "### 732A92/TDDE16 Text Mining\n",
    "Måns Magnusson"
   ]
  },
  {
   "cell_type": "markdown",
   "metadata": {},
   "source": [
    "The purpose of this lab is to implement the standard Gibbs sampling algorithm for Latent Dirichlet Allocation in Python. You will be supplied starter code, a smaller corpus with State of the Union addresses for the period 1975 to 2000 by paragraph and a list with English stop words. The code is implemented as a class, `LDAGibbs`, where you are expected to replace central parts of the code with your own implementations."
   ]
  },
  {
   "cell_type": "markdown",
   "metadata": {},
   "source": [
    "### 1. Sampling\n",
    "\n",
    "Implement the basic collapsed Gibbs sampling algorithm for Latent Dirichlet Allocation. Use the starter code and add the components that is missing (the sampler part). We use the fact that \n",
    "\n",
    "$$p(z_{i}=k)\\propto\\left(\\alpha+n_{d,k}^{(d)}\\right)\\frac{\\left(\\beta+n_{k,w_{i}}^{(w)}\\right)}{\\sum^{V}\\left(\\beta+n_{k,w_{i}}^{(w)}\\right)}=\\left(\\alpha+n_{d,k}^{(d)}\\right)\\frac{\\left(\\beta+n_{k,w_{i}}^{(w)}\\right)}{V\\beta+n_{k}}$$\n",
    "\n",
    "to simplify computations, where $K$ is the number of topics, $V$ is the vocabulary size and $D$ is the number of documents. $\\mathbf{n}^{(d)}$ is a count matrix of size $D\\times K$ with the number of topic indicators by document, $d$, and topic $k$, $\\mathbf{n}^{(w)}$ is a count matrix of size $K\\times V$ with the number of topic indicators by topic, $k$, and word type, $w$. $\\mathbf{n}$ is a topic indicator count vector of length $K$ that contain the number of topic indicators in each topic. The detailed algorithm can be found below:"
   ]
  },
  {
   "cell_type": "markdown",
   "metadata": {},
   "source": [
    "__Data:__ tokenized corpus $\\mathbf{w}$, priors $\\alpha, \\beta$ <br>\n",
    "__Result:__ topic indicators $\\mathbf{z}$\n",
    "\n",
    "Init topic indicators $\\mathbf{z}$ randomly per token<br>\n",
    "Init topic probability vector $\\mathbf{p}$<br>\n",
    "Init $\\mathbf{n}^{w}$, the topic type count matrix of size ($K \\times V$) with respect to $\\mathbf{z}$<br>\n",
    "Init $\\mathbf{n}^{d}$, the document topic count matrix of size ($D \\times K$) with respect to $\\mathbf{z}$<br>\n",
    "Init $\\mathbf{n}$, the topic count vector of length ($K$) with respect to $\\mathbf{z}$<br>\n",
    "\n",
    "for $g \\leftarrow 1$ __to__ _num_\\__iterations_ __do__<br>\n",
    "&emsp;&emsp;// Iterate over all tokens<br>\n",
    "&emsp;&emsp;for $i \\leftarrow 1$ __to__ $N$ __do__<br>\n",
    "&emsp;&emsp;&emsp;&emsp;// Remove current topic indicator $z_i$ from $\\mathbf{n}^{w}$, $\\mathbf{n}^{d}$ and $\\mathbf{n}$<br>\n",
    "&emsp;&emsp;&emsp;&emsp;$n^{(w)}_{z_i,w_i}$ -= 1, $n^{(d)}_{d_i,z_i}$ -= 1, $n_{z_i}$ -= 1<br>\n",
    "&emsp;&emsp;&emsp;&emsp;for $k \\leftarrow 1$ __to__ $K$ __do__<br>\n",
    "&emsp;&emsp;&emsp;&emsp;&emsp;&emsp;// Compute the unnormalized probability of each topic indicator<br>\n",
    "&emsp;&emsp;&emsp;&emsp;&emsp;&emsp;$\\mathbf{p}_k \\leftarrow \\left(\\alpha+n_{d,k}^{(d)}\\right)\\frac{\\left(\\beta+n_{k,w_{i}}^{(w)}\\right)}{\\left(V\\beta+n_{k}\\right)}$<br>\n",
    "&emsp;&emsp;&emsp;&emsp;__end__<br>\n",
    "&emsp;&emsp;&emsp;&emsp;// Sample the topic indicator<br>\n",
    "&emsp;&emsp;&emsp;&emsp;$z_i \\leftarrow $ Categorical($\\mathbf{p}$)<br>\n",
    "&emsp;&emsp;&emsp;&emsp;// Add the new topic indicator $z_i$ to $\\mathbf{n}^{w}$, $\\mathbf{n}^{d}$ and $\\mathbf{n}$<br>\n",
    "&emsp;&emsp;&emsp;&emsp;$n^{(w)}_{z_i,w_i}$ += 1, $n^{(d)}_{d_i,z_i}$ += 1, $n_{z_i}$ += 1<br>\n",
    "&emsp;&emsp;__end__<br>\n",
    "__end__"
   ]
  },
  {
   "cell_type": "markdown",
   "metadata": {},
   "source": [
    "For a complete derivation of the collapsed Gibbs sampler for LDA, see https://lingpipe.files.wordpress.com/2010/07/lda3.pdf."
   ]
  },
  {
   "cell_type": "markdown",
   "metadata": {},
   "source": [
    "Personal notes:\n",
    "\n",
    "\n",
    "$\\alpha$ and $\\beta$ are the parameters to the Dirichlet. \n",
    "\n",
    "$\\alpha$ is the prior on the document level of the topic distributions, where a high $\\alpha$ indicates that the document will contain most of the topics, not just one or two in particular. Conversely, a low $\\alpha$ means it will probably contain just a few of the topics.\n",
    "\n",
    "$\\beta$ is the prior on the per-topic word distributions. A high $\\beta$ means that a topic will contain a mixture of most of the words. A large $\\beta$ says it may just contain a few of the words.\n",
    "\n"
   ]
  },
  {
   "cell_type": "code",
   "execution_count": 80,
   "metadata": {
    "scrolled": true
   },
   "outputs": [
    {
     "data": {
      "text/plain": [
       "3.7416573867739413"
      ]
     },
     "execution_count": 80,
     "metadata": {},
     "output_type": "execute_result"
    }
   ],
   "source": [
    "numpy.linalg.norm(b, axis=)"
   ]
  },
  {
   "cell_type": "code",
   "execution_count": 146,
   "metadata": {},
   "outputs": [],
   "source": [
    "a =  [-0.15034538452003313,\n",
    "-0.0981291924717474,\n",
    "-0.08302621656811844,\n",
    "-0.06698837481447525,\n",
    "-0.13454981519578527,\n",
    "-0.06615790185744944,\n",
    "1.1910164210502632,\n",
    "-0.9088376591389262,\n",
    "1.4693377837108472,\n",
    "-0.15231966019457535]"
   ]
  },
  {
   "cell_type": "code",
   "execution_count": 211,
   "metadata": {},
   "outputs": [],
   "source": [
    "import numpy\n",
    "import random, scipy.special\n",
    "from tm3 import LDAGibbs\n",
    "import matplotlib.pyplot as plt\n",
    "\n",
    "class MyGibbs(LDAGibbs):\n",
    "        \n",
    "    def __init__(self, num_topics, docs_file_name, stop_list_file_name = None):\n",
    "        self.num_topics = num_topics\n",
    "        self.num_docs = 0\n",
    "        self.docs = []\n",
    "        ## Prepare set of stop words\n",
    "        self.stop_words = set()\n",
    "        if stop_list_file_name != None:\n",
    "            with open(stop_list_file_name) as f:\n",
    "                for line in f:\n",
    "                    word = line.rstrip()\n",
    "                    self.stop_words.add(word)\n",
    "        self.read_documents(docs_file_name)\n",
    "        self.initialize_matrices()\n",
    "            \n",
    "    def read_documents(self, filename):\n",
    "        \"\"\"Reads documents from a file, filters stop words and initializes\n",
    "        the vocabulary. Also converts tokens to integer term IDs.\"\"\"\n",
    "        self.vocab = []\n",
    "        self.vocab_ids = {}\n",
    "        with open(filename) as f:\n",
    "            for line in f:\n",
    "                line = line.replace(\".\", \" \").replace(\",\", \" \").lower()\n",
    "                self.num_docs += 1\n",
    "                tokens = []\n",
    "                for w in line.split():\n",
    "                    if not w in self.stop_words:\n",
    "                        if w in self.vocab_ids:\n",
    "                            tokens.append(self.vocab_ids[w])\n",
    "                        else:\n",
    "                            term_id = len(self.vocab)\n",
    "                            self.vocab.append(w)\n",
    "                            self.vocab_ids[w] = term_id\n",
    "                            tokens.append(term_id)\n",
    "                self.docs.append({ 'tokens': tokens })\n",
    "        self.num_terms = len(self.vocab)\n",
    "        print(\"Read {} documents with a total of {} terms\".format(self.num_docs, self.num_terms))\n",
    "        \n",
    "    def initialize_matrices(self):\n",
    "        \"\"\"Initializes numpy arrays for the matrix computations performed\n",
    "        by the sampler during the MCMC process.\"\"\"\n",
    "        ## Set up numpy matrices\n",
    "        self.term_topics = numpy.zeros((self.num_terms, self.num_topics)) # n^w\n",
    "        self.doc_topics = numpy.zeros((self.num_docs, self.num_topics)) # n^d\n",
    "        self.topic_totals = numpy.zeros(self.num_topics) # n\n",
    "        self.doc_totals = numpy.zeros(self.num_docs)\n",
    "        ## Initialize topics randomly\n",
    "        for doc_id in range(self.num_docs):\n",
    "            doc = self.docs[doc_id]\n",
    "            ## Create an array of random topic assignments\n",
    "            doc['topics'] = [random.randrange(self.num_topics) for token in doc['tokens']]\n",
    "            ## Construct the initial summary statistics\n",
    "            doc_length = len(doc['tokens'])\n",
    "            for token, topic in zip(doc['tokens'], doc['topics']):\n",
    "                self.term_topics[token][topic] += 1 # n_wk\n",
    "                self.doc_topics[doc_id][topic] += 1 # n_dk\n",
    "                self.topic_totals[topic] += 1       # n_k\n",
    "                self.doc_totals[doc_id] += 1\n",
    "        ## Printout to check that everything is coherent\n",
    "        #print(sum(sum(self.doc_topics)))\n",
    "        #print(sum(sum(self.term_topics)))\n",
    "        #print(sum(self.topic_totals))\n",
    "        #print(sum(self.doc_totals))\n",
    "        \n",
    "    def run(self, num_iterations = 50, alpha = 0.1, beta = 0.01):\n",
    "        self.logprobs = []\n",
    "        for iteration in range(num_iterations): #iteration = 0\n",
    "            self.make_draw(alpha, beta)\n",
    "            logprob = self.compute_logprob(alpha, beta)\n",
    "            self.logprobs.append(logprob)\n",
    "            print(\"iteration {}, {}\".format(iteration, logprob))\n",
    "            \n",
    "    def make_draw(self, alpha, beta):\n",
    "        self.total_tokens = 0 # some bug in the package requires this\n",
    "        for doc_id in range(self.num_docs):\n",
    "            doc = self.docs[doc_id]\n",
    "            for i, (token, topic) in enumerate(zip(doc['tokens'], doc['topics'])):\n",
    "                # remove token / update matrices\n",
    "                self.term_topics[token][topic] -= 1 # n_wk\n",
    "                self.doc_topics[doc_id][topic] -= 1 # n_dk\n",
    "                self.topic_totals[topic] -= 1       # n_k\n",
    "      \n",
    "                a = (alpha + self.doc_topics[doc_id]) * (beta + self.term_topics[token])\n",
    "                b = self.topic_totals * beta + self.topic_totals\n",
    "                probs = a / b\n",
    "                probs = probs / probs.sum()\n",
    "\n",
    "                # draw samples from multionomial with probabilities in probs\n",
    "                sample = numpy.random.multinomial(1, probs)\n",
    "                new_topic = numpy.argwhere(sample == 1).flatten()[0]\n",
    "\n",
    "                # set this tokens topic to the new topic\n",
    "                doc['topics'][i] = new_topic\n",
    "                \n",
    "                # update matrices with new topic as well\n",
    "                self.term_topics[token][new_topic] += 1 # n_wk\n",
    "                self.doc_topics[doc_id][new_topic] += 1 # n_dk\n",
    "                self.topic_totals[new_topic] += 1       # n_k\n",
    "                \n",
    "                self.total_tokens += 1\n",
    "            \n",
    "            \n",
    "    def print_topics(self, j):\n",
    "        ## TODO: implement this function for exercise 2\n",
    "        for k in range(self.num_topics):\n",
    "            indexes = numpy.argsort(self.term_topics[:, k])[-j:]\n",
    "            print(\"TOPIC: {}\".format(k))\n",
    "            for i in indexes[::-1]:\n",
    "                print(\"{} [{}]\".format(self.vocab[i], self.term_topics[i, k]), end=\" \")\n",
    "            print(\"\\n\")\n",
    "        #super().print_topics(j)\n",
    "    \n",
    "    def plot(self):\n",
    "        ## TODO: implement this function for exercise 3\n",
    "        super().plot()            \n",
    "    \n",
    "    def compute_logprob(self, alpha, beta):\n",
    "        ## TODO: implement this function for the bonus exercise\n",
    "        return super().compute_logprob(alpha, beta)\n",
    "\n",
    "        "
   ]
  },
  {
   "cell_type": "markdown",
   "metadata": {},
   "source": [
    "Implement the `make_draw` function above. You should get behavior very similar to the results from calling the parent class."
   ]
  },
  {
   "cell_type": "code",
   "execution_count": 212,
   "metadata": {
    "scrolled": false
   },
   "outputs": [
    {
     "name": "stdout",
     "output_type": "stream",
     "text": [
      "Read 2898 documents with a total of 8695 terms\n",
      "iteration 0, -10.360060358294067\n",
      "iteration 1, -9.843579964557605\n",
      "iteration 2, -9.580165721730543\n",
      "iteration 3, -9.421856825221132\n",
      "iteration 4, -9.316929539170607\n",
      "iteration 5, -9.229617171650938\n",
      "iteration 6, -9.173766021534451\n",
      "iteration 7, -9.113825372389801\n",
      "iteration 8, -9.066730455916092\n",
      "iteration 9, -9.022112269394277\n"
     ]
    }
   ],
   "source": [
    "num_topics = 10\n",
    "num_iterations = 10\n",
    "\n",
    "model = MyGibbs(num_topics, 'sotu_1975_2000.txt', 'stoplist_en.txt')\n",
    "model.run(num_iterations)"
   ]
  },
  {
   "cell_type": "raw",
   "metadata": {},
   "source": [
    "Read 2898 documents with a total of 8695 terms\n",
    "iteration 0, -10.367600794273336\n",
    "iteration 1, -9.838817418141774\n",
    "iteration 2, -9.578925437148749\n",
    "iteration 3, -9.42270091559614\n",
    "iteration 4, -9.308753807622974\n",
    "iteration 5, -9.22369862861209\n",
    "iteration 6, -9.159342309662485\n",
    "iteration 7, -9.104751158924334\n",
    "iteration 8, -9.0479880888814\n",
    "iteration 9, -9.000561047153186"
   ]
  },
  {
   "cell_type": "markdown",
   "metadata": {},
   "source": [
    "### 2. Top terms\n",
    "Implement the `print_topics` function to extract the top `j` largest counts in $n(w)$ by row. This is the most probable word types in each topic."
   ]
  },
  {
   "cell_type": "code",
   "execution_count": 213,
   "metadata": {
    "scrolled": false
   },
   "outputs": [
    {
     "name": "stdout",
     "output_type": "stream",
     "text": [
      "TOPIC: 0\n",
      "america [217.0] world [135.0] people [113.0] nation [93.0] work [89.0] freedom [82.0] united [74.0] states [71.0] country [70.0] peace [69.0] \n",
      "\n",
      "TOPIC: 1\n",
      "government [80.0] year [73.0] congress [65.0] americans [64.0] make [62.0] trade [60.0] plan [57.0] budget [56.0] federal [56.0] years [50.0] \n",
      "\n",
      "TOPIC: 2\n",
      "congress [95.0] work [87.0] development [65.0] program [63.0] years [60.0] america [59.0] state [57.0] government [54.0] support [54.0] nation [54.0] \n",
      "\n",
      "TOPIC: 3\n",
      "world [64.0] federal [63.0] forces [50.0] union [47.0] economic [46.0] force [45.0] years [40.0] military [38.0] states [38.0] europe [37.0] \n",
      "\n",
      "TOPIC: 4\n",
      "federal [105.0] government [99.0] people [93.0] tax [80.0] year [73.0] community [70.0] jobs [69.0] america [65.0] years [62.0] americans [61.0] \n",
      "\n",
      "TOPIC: 5\n",
      "people [140.0] health [99.0] america [81.0] year [80.0] world [73.0] care [65.0] nuclear [62.0] budget [62.0] spending [61.0] president [58.0] \n",
      "\n",
      "TOPIC: 6\n",
      "year [88.0] tax [87.0] people [83.0] education [71.0] time [71.0] americans [62.0] years [62.0] work [61.0] budget [58.0] children [57.0] \n",
      "\n",
      "TOPIC: 7\n",
      "congress [112.0] government [81.0] children [79.0] year [67.0] schools [65.0] years [63.0] programs [62.0] federal [61.0] million [60.0] give [56.0] \n",
      "\n",
      "TOPIC: 8\n",
      "world [140.0] security [119.0] economic [92.0] energy [88.0] peace [88.0] national [80.0] years [69.0] nuclear [68.0] defense [63.0] continue [62.0] \n",
      "\n",
      "TOPIC: 9\n",
      "world [61.0] american [59.0] people [55.0] administration [54.0] house [52.0] government [49.0] children [47.0] child [41.0] year [40.0] space [40.0] \n",
      "\n"
     ]
    }
   ],
   "source": [
    "model.print_topics(10)"
   ]
  },
  {
   "cell_type": "raw",
   "metadata": {},
   "source": [
    "tax [100.0] soviet [82.0] people [79.0] americans [75.0] care [72.0] year [70.0] family [69.0] work [52.0] union [51.0] child [49.0]\n",
    "america [131.0] people [90.0] country [77.0] rights [66.0] peace [65.0] tonight [61.0] government [58.0] nation [53.0] mr [52.0] free [51.0]\n",
    "budget [154.0] years [109.0] children [106.0] people [102.0] health [87.0] percent [85.0] congress [81.0] federal [71.0] jobs [70.0] work [67.0]\n",
    "year [110.0] health [88.0] congress [87.0] welfare [83.0] people [75.0] american [64.0] act [64.0] work [58.0] social [58.0] americans [53.0]\n",
    "federal [129.0] government [123.0] year [80.0] years [72.0] make [66.0] administration [63.0] million [60.0] system [60.0] jobs [56.0] major [56.0]\n",
    "america [149.0] world [123.0] american [120.0] people [109.0] make [85.0] freedom [75.0] schools [69.0] nation [66.0] government [60.0] tonight [59.0]\n",
    "security [96.0] congress [78.0] years [71.0] world [71.0] people [64.0] defense [58.0] programs [56.0] program [55.0] president [53.0] national [50.0]\n",
    "america [171.0] world [89.0] century [89.0] work [71.0] government [70.0] challenge [53.0] legislation [51.0] 21st [49.0] american [47.0] make [42.0]\n",
    "energy [153.0] economic [118.0] program [80.0] congress [69.0] states [54.0] oil [53.0] year [51.0] tax [51.0] growth [51.0] united [51.0]\n",
    "peace [109.0] world [108.0] states [101.0] trade [86.0] nations [69.0] united [65.0] support [65.0] security [59.0] economic [58.0] soviet [57.0]\n"
   ]
  },
  {
   "cell_type": "markdown",
   "metadata": {},
   "source": [
    "### 3. Explore the data\n",
    "\n",
    "Run your implemention on the State of the Union corpus until convergence with 10 topics, don't forget to remove stop words. Plot the log marginal posterior by the number of iterations. How many iterations do you need until convergence? How do you interpret the topics?\n",
    "\n",
    "[Hint: You can use the plot-function to print the marginal probability for each iteration. To get it working in Jupyter you need to run the command `%matplotlib inline` before plotting the first time.]"
   ]
  },
  {
   "cell_type": "code",
   "execution_count": 4,
   "metadata": {},
   "outputs": [
    {
     "data": {
      "image/png": "[encoded data removed]",
      "text/plain": [
       "<matplotlib.figure.Figure at 0x7f145c367b70>"
      ]
     },
     "metadata": {},
     "output_type": "display_data"
    }
   ],
   "source": [
    "%matplotlib inline\n",
    "model.plot()"
   ]
  },
  {
   "cell_type": "markdown",
   "metadata": {},
   "source": [
    "#### Answer here:"
   ]
  },
  {
   "cell_type": "markdown",
   "metadata": {},
   "source": [
    "### 4. Simulate a new State of the Union speech\n",
    "\n",
    "Write a function `new_speech` using the `MyGibbs` class to use the estimated values for $\\Phi$ from your model (with stop words removed) to simulate a new State of the Union speech. Start out by simulating $\\theta_d \\sim Dir(\\alpha = 0.5)$ and then simulate your document. Does it make sense? Why, why not?"
   ]
  },
  {
   "cell_type": "code",
   "execution_count": 5,
   "metadata": {},
   "outputs": [],
   "source": [
    "def new_speech(model, alpha, num_words):\n",
    "    speech = []        \n",
    "    return \" \".join(speech)"
   ]
  },
  {
   "cell_type": "code",
   "execution_count": 6,
   "metadata": {},
   "outputs": [
    {
     "data": {
      "text/plain": [
       "''"
      ]
     },
     "execution_count": 6,
     "metadata": {},
     "output_type": "execute_result"
    }
   ],
   "source": [
    "new_speech(model, 0.5, 100)"
   ]
  },
  {
   "cell_type": "markdown",
   "metadata": {},
   "source": [
    "#### Answer here:"
   ]
  },
  {
   "cell_type": "markdown",
   "metadata": {},
   "source": [
    "### Bonus assignment:\n",
    "\n",
    "To get better understanding how to implement the underlying model or similar models, you might want to implement your own function to compute the log marginal posterior. If so, implement the `compute_logprob` function.\n",
    "\n",
    "$$\\begin{align}\n",
    "\\log p(\\mathbf{z}|\\mathbf{w}) =& \\log\\prod^{K}p(\\mathbf{w}|\\mathbf{z},\\beta)\\prod^{D}p(\\mathbf{z}|\\alpha) \\\\\n",
    "=& \\sum^{K}\\log\\left[\\frac{\\Gamma\\left(\\sum^{V}\\beta\\right)}{\\prod^{V}\\Gamma\\left(\\beta\\right)}\\frac{\\prod^{V}\\Gamma\\left(n_{kv}^{(w)}+\\beta\\right)}{\\Gamma(\\sum^{V}n_{kv}^{(w)}+\\beta)}\\right]+\\sum^{D}\\log\\left[\\frac{\\Gamma\\left(\\sum^{K}\\alpha\\right)}{\\prod^{K}\\Gamma\\left(\\alpha\\right)}\\frac{\\prod^{K}\\Gamma\\left(n_{dk}^{(d)}+\\alpha\\right)}{\\Gamma(\\sum^{K}n_{dk}^{(d)}+\\alpha)}\\right] \\\\\n",
    "=& K\\log\\Gamma\\left(V\\beta\\right)-KV\\log\\Gamma\\left(\\beta\\right)+\\sum^{K}\\sum^{V}\\log\\Gamma\\left(n_{kv}^{(w)}+\\beta\\right)-\\sum^{K}\\log\\Gamma(\\sum^{V}n_{kv}^{(w)}+\\beta)\\\\\n",
    "&+ D\\log\\Gamma\\left(K\\alpha\\right)-DK\\log\\Gamma\\left(\\alpha\\right)+\\sum^{D}\\sum^{K}\\log\\Gamma\\left(n_{dk}^{(d)}+\\alpha\\right)-\\sum^{D}\\log\\Gamma(\\sum^{K}n_{dk}^{(d)}+\\alpha)\n",
    "\\end{align}$$\n",
    "\n",
    "In Python, use `scipy.special.gammaln` for $\\log\\Gamma(x)$ (if you run into problems, you might try `math.lgamma` instead)."
   ]
  }
 ],
 "metadata": {
  "kernelspec": {
   "display_name": "Python 3",
   "language": "python",
   "name": "python3"
  },
  "language_info": {
   "codemirror_mode": {
    "name": "ipython",
    "version": 3
   },
   "file_extension": ".py",
   "mimetype": "text/x-python",
   "name": "python",
   "nbconvert_exporter": "python",
   "pygments_lexer": "ipython3",
   "version": "3.4.3"
  },
  "latex_envs": {
   "bibliofile": "biblio.bib",
   "cite_by": "apalike",
   "current_citInitial": 1,
   "eqLabelWithNumbers": true,
   "eqNumInitial": 0
  }
 },
 "nbformat": 4,
 "nbformat_minor": 2
}
