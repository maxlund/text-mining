{
 "cells": [
  {
   "cell_type": "markdown",
   "metadata": {},
   "source": [
    "# L3: Topic Models\n",
    "### 732A92/TDDE16 Text Mining\n",
    "Måns Magnusson"
   ]
  },
  {
   "cell_type": "markdown",
   "metadata": {},
   "source": [
    "The purpose of this lab is to implement the standard Gibbs sampling algorithm for Latent Dirichlet Allocation in Python. You will be supplied starter code, a smaller corpus with State of the Union addresses for the period 1975 to 2000 by paragraph and a list with English stop words. The code is implemented as a class, `LDAGibbs`, where you are expected to replace central parts of the code with your own implementations."
   ]
  },
  {
   "cell_type": "markdown",
   "metadata": {},
   "source": [
    "### 1. Sampling\n",
    "\n",
    "Implement the basic collapsed Gibbs sampling algorithm for Latent Dirichlet Allocation. Use the starter code and add the components that is missing (the sampler part). We use the fact that \n",
    "\n",
    "$$p(z_{i}=k)\\propto\\left(\\alpha+n_{d,k}^{(d)}\\right)\\frac{\\left(\\beta+n_{k,w_{i}}^{(w)}\\right)}{\\sum^{V}\\left(\\beta+n_{k,w_{i}}^{(w)}\\right)}=\\left(\\alpha+n_{d,k}^{(d)}\\right)\\frac{\\left(\\beta+n_{k,w_{i}}^{(w)}\\right)}{V\\beta+n_{k}}$$\n",
    "\n",
    "to simplify computations, where $K$ is the number of topics, $V$ is the vocabulary size and $D$ is the number of documents. $\\mathbf{n}^{(d)}$ is a count matrix of size $D\\times K$ with the number of topic indicators by document, $d$, and topic $k$, $\\mathbf{n}^{(w)}$ is a count matrix of size $K\\times V$ with the number of topic indicators by topic, $k$, and word type, $w$. $\\mathbf{n}$ is a topic indicator count vector of length $K$ that contain the number of topic indicators in each topic. The detailed algorithm can be found below:"
   ]
  },
  {
   "cell_type": "markdown",
   "metadata": {},
   "source": [
    "__Data:__ tokenized corpus $\\mathbf{w}$, priors $\\alpha, \\beta$ <br>\n",
    "__Result:__ topic indicators $\\mathbf{z}$\n",
    "\n",
    "Init topic indicators $\\mathbf{z}$ randomly per token<br>\n",
    "Init topic probability vector $\\mathbf{p}$<br>\n",
    "Init $\\mathbf{n}^{w}$, the topic type count matrix of size ($K \\times V$) with respect to $\\mathbf{z}$<br>\n",
    "Init $\\mathbf{n}^{d}$, the document topic count matrix of size ($D \\times K$) with respect to $\\mathbf{z}$<br>\n",
    "Init $\\mathbf{n}$, the topic count vector of length ($K$) with respect to $\\mathbf{z}$<br>\n",
    "\n",
    "for $g \\leftarrow 1$ __to__ _num_\\__iterations_ __do__<br>\n",
    "&emsp;&emsp;// Iterate over all tokens<br>\n",
    "&emsp;&emsp;for $i \\leftarrow 1$ __to__ $N$ __do__<br>\n",
    "&emsp;&emsp;&emsp;&emsp;// Remove current topic indicator $z_i$ from $\\mathbf{n}^{w}$, $\\mathbf{n}^{d}$ and $\\mathbf{n}$<br>\n",
    "&emsp;&emsp;&emsp;&emsp;$n^{(w)}_{z_i,w_i}$ -= 1, $n^{(d)}_{d_i,z_i}$ -= 1, $n_{z_i}$ -= 1<br>\n",
    "&emsp;&emsp;&emsp;&emsp;for $k \\leftarrow 1$ __to__ $K$ __do__<br>\n",
    "&emsp;&emsp;&emsp;&emsp;&emsp;&emsp;// Compute the unnormalized probability of each topic indicator<br>\n",
    "&emsp;&emsp;&emsp;&emsp;&emsp;&emsp;$\\mathbf{p}_k \\leftarrow \\left(\\alpha+n_{d,k}^{(d)}\\right)\\frac{\\left(\\beta+n_{k,w_{i}}^{(w)}\\right)}{\\left(V\\beta+n_{k}\\right)}$<br>\n",
    "&emsp;&emsp;&emsp;&emsp;__end__<br>\n",
    "&emsp;&emsp;&emsp;&emsp;// Sample the topic indicator<br>\n",
    "&emsp;&emsp;&emsp;&emsp;$z_i \\leftarrow $ Categorical($\\mathbf{p}$)<br>\n",
    "&emsp;&emsp;&emsp;&emsp;// Add the new topic indicator $z_i$ to $\\mathbf{n}^{w}$, $\\mathbf{n}^{d}$ and $\\mathbf{n}$<br>\n",
    "&emsp;&emsp;&emsp;&emsp;$n^{(w)}_{z_i,w_i}$ += 1, $n^{(d)}_{d_i,z_i}$ += 1, $n_{z_i}$ += 1<br>\n",
    "&emsp;&emsp;__end__<br>\n",
    "__end__"
   ]
  },
  {
   "cell_type": "markdown",
   "metadata": {},
   "source": [
    "For a complete derivation of the collapsed Gibbs sampler for LDA, see https://lingpipe.files.wordpress.com/2010/07/lda3.pdf."
   ]
  },
  {
   "cell_type": "markdown",
   "metadata": {},
   "source": [
    "Personal notes:\n",
    "\n",
    "\n",
    "$\\alpha$ and $\\beta$ are the parameters to the Dirichlet. \n",
    "\n",
    "$\\alpha$ is the prior on the document level of the topic distributions, where a high $\\alpha$ indicates that the document will contain most of the topics, not just one or two in particular. Conversely, a low $\\alpha$ means it will probably contain just a few of the topics.\n",
    "\n",
    "$\\beta$ is the prior on the per-topic word distributions. A high $\\beta$ means that a topic will contain a mixture of most of the words. A large $\\beta$ says it may just contain a few of the words.\n",
    "\n",
    "$\\theta_m$ is the topic distribution for document m."
   ]
  },
  {
   "cell_type": "code",
   "execution_count": 1,
   "metadata": {},
   "outputs": [],
   "source": [
    "import numpy\n",
    "import random, scipy.special\n",
    "from tm3 import LDAGibbs\n",
    "import matplotlib.pyplot as plt\n",
    "\n",
    "class MyGibbs(LDAGibbs):\n",
    "        \n",
    "    def __init__(self, num_topics, docs_file_name, stop_list_file_name = None):\n",
    "        self.num_topics = num_topics\n",
    "        self.num_docs = 0\n",
    "        self.docs = []\n",
    "        ## Prepare set of stop words\n",
    "        self.stop_words = set()\n",
    "        if stop_list_file_name != None:\n",
    "            with open(stop_list_file_name) as f:\n",
    "                for line in f:\n",
    "                    word = line.rstrip()\n",
    "                    self.stop_words.add(word)\n",
    "        self.read_documents(docs_file_name)\n",
    "        self.initialize_matrices()\n",
    "            \n",
    "    def read_documents(self, filename):\n",
    "        \"\"\"Reads documents from a file, filters stop words and initializes\n",
    "        the vocabulary. Also converts tokens to integer term IDs.\"\"\"\n",
    "        self.vocab = []\n",
    "        self.vocab_ids = {}\n",
    "        with open(filename) as f:\n",
    "            for line in f:\n",
    "                line = line.replace(\".\", \" \").replace(\",\", \" \").lower()\n",
    "                self.num_docs += 1\n",
    "                tokens = []\n",
    "                for w in line.split():\n",
    "                    if not w in self.stop_words:\n",
    "                        if w in self.vocab_ids:\n",
    "                            tokens.append(self.vocab_ids[w])\n",
    "                        else:\n",
    "                            term_id = len(self.vocab)\n",
    "                            self.vocab.append(w)\n",
    "                            self.vocab_ids[w] = term_id\n",
    "                            tokens.append(term_id)\n",
    "                self.docs.append({ 'tokens': tokens })\n",
    "        self.num_terms = len(self.vocab)\n",
    "        print(\"Read {} documents with a total of {} terms\".format(self.num_docs, self.num_terms))\n",
    "        \n",
    "    def initialize_matrices(self):\n",
    "        \"\"\"Initializes numpy arrays for the matrix computations performed\n",
    "        by the sampler during the MCMC process.\"\"\"\n",
    "        ## Set up numpy matrices\n",
    "        self.term_topics = numpy.zeros((self.num_terms, self.num_topics)) # n^w\n",
    "        self.doc_topics = numpy.zeros((self.num_docs, self.num_topics)) # n^d\n",
    "        self.topic_totals = numpy.zeros(self.num_topics) # n\n",
    "        self.doc_totals = numpy.zeros(self.num_docs)\n",
    "        ## Initialize topics randomly\n",
    "        for doc_id in range(self.num_docs):\n",
    "            doc = self.docs[doc_id]\n",
    "            ## Create an array of random topic assignments\n",
    "            doc['topics'] = [random.randrange(self.num_topics) for token in doc['tokens']]\n",
    "            ## Construct the initial summary statistics\n",
    "            doc_length = len(doc['tokens'])\n",
    "            for token, topic in zip(doc['tokens'], doc['topics']):\n",
    "                self.term_topics[token][topic] += 1 # n_wk\n",
    "                self.doc_topics[doc_id][topic] += 1 # n_dk\n",
    "                self.topic_totals[topic] += 1       # n_k\n",
    "                self.doc_totals[doc_id] += 1\n",
    "        ## Printout to check that everything is coherent\n",
    "        #print(sum(sum(self.doc_topics)))\n",
    "        #print(sum(sum(self.term_topics)))\n",
    "        #print(sum(self.topic_totals))\n",
    "        #print(sum(self.doc_totals))\n",
    "        \n",
    "    def run(self, num_iterations = 50, alpha = 0.1, beta = 0.01):\n",
    "        self.logprobs = []\n",
    "        for iteration in range(num_iterations): #iteration = 0\n",
    "            self.make_draw(alpha, beta)\n",
    "            logprob = self.compute_logprob(alpha, beta)\n",
    "            self.logprobs.append(logprob)\n",
    "            if iteration % 10 == 0:\n",
    "                print(\"iteration {}, {}\".format(iteration, logprob))\n",
    "            \n",
    "    def make_draw(self, alpha, beta):\n",
    "        self.total_tokens = 0 # some bug in the package requires this\n",
    "        for doc_id in range(self.num_docs):\n",
    "            doc = self.docs[doc_id]\n",
    "            for i, (token, topic) in enumerate(zip(doc['tokens'], doc['topics'])):\n",
    "                # remove token / update matrices\n",
    "                self.term_topics[token][topic] -= 1 # n_wk\n",
    "                self.doc_topics[doc_id][topic] -= 1 # n_dk\n",
    "                self.topic_totals[topic] -= 1       # n_k\n",
    "      \n",
    "                a = (alpha + self.doc_topics[doc_id]) * (beta + self.term_topics[token])\n",
    "                b = self.topic_totals * beta + self.topic_totals\n",
    "                probs = a / b\n",
    "                probs = probs / probs.sum()\n",
    "\n",
    "                # draw samples from multionomial with probabilities in probs\n",
    "                sample = numpy.random.multinomial(1, probs)\n",
    "                new_topic = numpy.argwhere(sample == 1).flatten()[0]\n",
    "\n",
    "                # set this tokens topic to the new topic\n",
    "                doc['topics'][i] = new_topic\n",
    "                \n",
    "                # update matrices with new topic as well\n",
    "                self.term_topics[token][new_topic] += 1 # n_wk\n",
    "                self.doc_topics[doc_id][new_topic] += 1 # n_dk\n",
    "                self.topic_totals[new_topic] += 1       # n_k\n",
    "                \n",
    "                self.total_tokens += 1\n",
    "            \n",
    "            \n",
    "    def print_topics(self, j):\n",
    "        for k in range(self.num_topics):\n",
    "            indexes = numpy.argsort(self.term_topics[:, k])[-j:]\n",
    "            print(\"TOPIC: {}\".format(k))\n",
    "            for i in indexes[::-1]:\n",
    "                print(\"{} [{}]\".format(self.vocab[i], self.term_topics[i, k]), end=\" \")\n",
    "            print(\"\\n\")\n",
    "        #super().print_topics(j)\n",
    "    \n",
    "    def plot(self):\n",
    "        plt.plot(self.logprobs)          \n",
    "    \n",
    "    def compute_logprob(self, alpha, beta):\n",
    "        ## TODO: implement this function for the bonus exercise\n",
    "        return super().compute_logprob(alpha, beta)\n",
    "\n",
    "        "
   ]
  },
  {
   "cell_type": "markdown",
   "metadata": {},
   "source": [
    "Implement the `make_draw` function above. You should get behavior very similar to the results from calling the parent class."
   ]
  },
  {
   "cell_type": "code",
   "execution_count": 3,
   "metadata": {
    "scrolled": false
   },
   "outputs": [
    {
     "name": "stdout",
     "output_type": "stream",
     "text": [
      "Read 2898 documents with a total of 8695 terms\n",
      "iteration 0, -10.369810768943793\n",
      "iteration 10, -8.948038711358514\n",
      "iteration 20, -8.720611252969338\n",
      "iteration 30, -8.613066223755386\n",
      "iteration 40, -8.540815039373204\n",
      "iteration 50, -8.499504042518573\n",
      "iteration 60, -8.453617879119196\n",
      "iteration 70, -8.429401697811471\n",
      "iteration 80, -8.410562133698399\n",
      "iteration 90, -8.398674307704727\n",
      "iteration 100, -8.382665823945965\n",
      "iteration 110, -8.368049151991238\n",
      "iteration 120, -8.366697836192907\n",
      "iteration 130, -8.353929340695366\n",
      "iteration 140, -8.346962326664816\n",
      "iteration 150, -8.348575342900554\n",
      "iteration 160, -8.345620784061039\n",
      "iteration 170, -8.341982118909769\n",
      "iteration 180, -8.333920191204058\n",
      "iteration 190, -8.328590269996653\n",
      "iteration 200, -8.325706333147432\n"
     ]
    }
   ],
   "source": [
    "num_topics = 10\n",
    "num_iterations = 201\n",
    "\n",
    "model = MyGibbs(num_topics, 'sotu_1975_2000.txt', 'stoplist_en.txt')\n",
    "model.run(num_iterations)"
   ]
  },
  {
   "cell_type": "markdown",
   "metadata": {},
   "source": [
    "### 2. Top terms\n",
    "Implement the `print_topics` function to extract the top `j` largest counts in $n(w)$ by row. This is the most probable word types in each topic."
   ]
  },
  {
   "cell_type": "code",
   "execution_count": 4,
   "metadata": {
    "scrolled": false
   },
   "outputs": [
    {
     "name": "stdout",
     "output_type": "stream",
     "text": [
      "TOPIC: 0\n",
      "crime [98.0] environment [52.0] space [52.0] technology [49.0] science [45.0] drugs [45.0] research [41.0] community [40.0] national [37.0] drug [36.0] \n",
      "\n",
      "TOPIC: 1\n",
      "soviet [153.0] nuclear [142.0] forces [106.0] military [100.0] defense [83.0] president [79.0] strategic [66.0] war [66.0] congress [66.0] arms [63.0] \n",
      "\n",
      "TOPIC: 2\n",
      "health [199.0] care [176.0] children [142.0] people [133.0] families [113.0] year [112.0] family [103.0] americans [99.0] congress [88.0] child [84.0] \n",
      "\n",
      "TOPIC: 3\n",
      "people [194.0] work [160.0] welfare [132.0] children [116.0] make [105.0] schools [96.0] education [94.0] give [86.0] government [86.0] good [77.0] \n",
      "\n",
      "TOPIC: 4\n",
      "america [331.0] people [205.0] world [157.0] nation [157.0] tonight [130.0] american [128.0] americans [123.0] time [116.0] years [112.0] freedom [109.0] \n",
      "\n",
      "TOPIC: 5\n",
      "congress [162.0] government [158.0] federal [150.0] administration [147.0] programs [125.0] program [117.0] energy [111.0] act [87.0] policy [81.0] major [80.0] \n",
      "\n",
      "TOPIC: 6\n",
      "world [279.0] peace [189.0] nations [127.0] america [124.0] united [123.0] states [102.0] security [98.0] human [79.0] countries [74.0] country [69.0] \n",
      "\n",
      "TOPIC: 7\n",
      "social [121.0] security [117.0] women [84.0] rights [73.0] programs [62.0] federal [48.0] bipartisan [46.0] equal [42.0] commission [41.0] year [40.0] \n",
      "\n",
      "TOPIC: 8\n",
      "budget [216.0] tax [200.0] year [198.0] years [173.0] percent [148.0] billion [139.0] spending [124.0] federal [115.0] government [111.0] cut [86.0] \n",
      "\n",
      "TOPIC: 9\n",
      "economy [147.0] trade [124.0] economic [107.0] jobs [96.0] american [76.0] energy [75.0] growth [72.0] oil [66.0] world [64.0] years [61.0] \n",
      "\n"
     ]
    }
   ],
   "source": [
    "model.print_topics(10)"
   ]
  },
  {
   "cell_type": "markdown",
   "metadata": {},
   "source": [
    "### 3. Explore the data\n",
    "\n",
    "Run your implemention on the State of the Union corpus until convergence with 10 topics, don't forget to remove stop words. Plot the log marginal posterior by the number of iterations. How many iterations do you need until convergence? How do you interpret the topics?\n",
    "\n",
    "[Hint: You can use the plot-function to print the marginal probability for each iteration. To get it working in Jupyter you need to run the command `%matplotlib inline` before plotting the first time.]"
   ]
  },
  {
   "cell_type": "code",
   "execution_count": 6,
   "metadata": {},
   "outputs": [
    {
     "data": {
      "image/png": "[encoded data removed]",
      "text/plain": [
       "<matplotlib.figure.Figure at 0x7f28ac3b6048>"
      ]
     },
     "metadata": {},
     "output_type": "display_data"
    }
   ],
   "source": [
    "%matplotlib inline\n",
    "model.plot()"
   ]
  },
  {
   "cell_type": "markdown",
   "metadata": {},
   "source": [
    "#### Answer here:\n",
    "It seems like it statrts to converge at around 170 iterations."
   ]
  },
  {
   "cell_type": "markdown",
   "metadata": {},
   "source": [
    "### 4. Simulate a new State of the Union speech\n",
    "\n",
    "Write a function `new_speech` using the `MyGibbs` class to use the estimated values for $\\Phi$ from your model (with stop words removed) to simulate a new State of the Union speech. Start out by simulating $\\theta_d \\sim Dir(\\alpha = 0.5)$ and then simulate your document. Does it make sense? Why, why not?"
   ]
  },
  {
   "cell_type": "code",
   "execution_count": 36,
   "metadata": {},
   "outputs": [],
   "source": [
    "def new_speech(model, alpha, num_words):\n",
    "    speech = []\n",
    "    topic_word_dist = dict()\n",
    "    \n",
    "    # get the word frequencies per topic from our model\n",
    "    for k in range(model.num_topics):\n",
    "        topic_word_dist[k] = model.term_topics[:,k] / model.term_topics[:,k].sum()\n",
    "    \n",
    "    # get a distribution over our topics for the document\n",
    "    document_topic_dist = numpy.random.dirichlet([alpha for _ in range(model.num_topics)])\n",
    "\n",
    "    #keep generating num_words times:\n",
    "    for i in range(num_words):\n",
    "            #draw topic from topic distribution\n",
    "            topic_sample = numpy.random.multinomial(1, document_topic_dist)\n",
    "            generated_topic = numpy.argwhere(topic_sample == 1).flatten()[0]\n",
    "            \n",
    "            #draw word from topic distribution\n",
    "            word_sample = numpy.random.multinomial(1, topic_word_dist[generated_topic])\n",
    "            generated_word_id = numpy.argwhere(word_sample == 1).flatten()[0]\n",
    "            \n",
    "            # reverse lookup word from index\n",
    "            generated_word = model.vocab[generated_word_id]\n",
    "            speech.append(generated_word)\n",
    "            \n",
    "    return \" \".join(speech)"
   ]
  },
  {
   "cell_type": "code",
   "execution_count": 37,
   "metadata": {},
   "outputs": [
    {
     "data": {
      "text/plain": [
       "'time deficit bay environmental meet country $150 work encourage welfare contribution violations barely assure utilize continued reach higher 21st total mob world retirement congress commitment due area liberty solving restrained missions february 59 transportation micronesia confidence provided national functions aggressive increase federal policy authority states country 000 terminal days park national 1980 capability attention leadership citizens transferred national mutual threat acid president created 000 provided government determine warning citizens effective problem cities 1979 propose strong restrain noted provide important development projects cut point executive services broader thing jones designation support legally year providing bring food energy state statutory space soul'"
      ]
     },
     "execution_count": 37,
     "metadata": {},
     "output_type": "execute_result"
    }
   ],
   "source": [
    "new_speech(model, 0.5, 100)"
   ]
  },
  {
   "cell_type": "markdown",
   "metadata": {},
   "source": [
    "#### Answer here:\n",
    "We think it does not make sense to use a fixed alpha which does not correspond to the alpha that was used to sample within the gibbs sampling process. A different alpha will generate a different topic distribution for the documents. \n",
    "It would be better to just draw from a multinomial described by the alpha values estimated in the sampling process."
   ]
  },
  {
   "cell_type": "markdown",
   "metadata": {},
   "source": [
    "### Bonus assignment:\n",
    "\n",
    "To get better understanding how to implement the underlying model or similar models, you might want to implement your own function to compute the log marginal posterior. If so, implement the `compute_logprob` function.\n",
    "\n",
    "$$\\begin{align}\n",
    "\\log p(\\mathbf{z}|\\mathbf{w}) =& \\log\\prod^{K}p(\\mathbf{w}|\\mathbf{z},\\beta)\\prod^{D}p(\\mathbf{z}|\\alpha) \\\\\n",
    "=& \\sum^{K}\\log\\left[\\frac{\\Gamma\\left(\\sum^{V}\\beta\\right)}{\\prod^{V}\\Gamma\\left(\\beta\\right)}\\frac{\\prod^{V}\\Gamma\\left(n_{kv}^{(w)}+\\beta\\right)}{\\Gamma(\\sum^{V}n_{kv}^{(w)}+\\beta)}\\right]+\\sum^{D}\\log\\left[\\frac{\\Gamma\\left(\\sum^{K}\\alpha\\right)}{\\prod^{K}\\Gamma\\left(\\alpha\\right)}\\frac{\\prod^{K}\\Gamma\\left(n_{dk}^{(d)}+\\alpha\\right)}{\\Gamma(\\sum^{K}n_{dk}^{(d)}+\\alpha)}\\right] \\\\\n",
    "=& K\\log\\Gamma\\left(V\\beta\\right)-KV\\log\\Gamma\\left(\\beta\\right)+\\sum^{K}\\sum^{V}\\log\\Gamma\\left(n_{kv}^{(w)}+\\beta\\right)-\\sum^{K}\\log\\Gamma(\\sum^{V}n_{kv}^{(w)}+\\beta)\\\\\n",
    "&+ D\\log\\Gamma\\left(K\\alpha\\right)-DK\\log\\Gamma\\left(\\alpha\\right)+\\sum^{D}\\sum^{K}\\log\\Gamma\\left(n_{dk}^{(d)}+\\alpha\\right)-\\sum^{D}\\log\\Gamma(\\sum^{K}n_{dk}^{(d)}+\\alpha)\n",
    "\\end{align}$$\n",
    "\n",
    "In Python, use `scipy.special.gammaln` for $\\log\\Gamma(x)$ (if you run into problems, you might try `math.lgamma` instead)."
   ]
  }
 ],
 "metadata": {
  "kernelspec": {
   "display_name": "Python 3",
   "language": "python",
   "name": "python3"
  },
  "language_info": {
   "codemirror_mode": {
    "name": "ipython",
    "version": 3
   },
   "file_extension": ".py",
   "mimetype": "text/x-python",
   "name": "python",
   "nbconvert_exporter": "python",
   "pygments_lexer": "ipython3",
   "version": "3.4.3"
  },
  "latex_envs": {
   "bibliofile": "biblio.bib",
   "cite_by": "apalike",
   "current_citInitial": 1,
   "eqLabelWithNumbers": true,
   "eqNumInitial": 0
  }
 },
 "nbformat": 4,
 "nbformat_minor": 2
}
