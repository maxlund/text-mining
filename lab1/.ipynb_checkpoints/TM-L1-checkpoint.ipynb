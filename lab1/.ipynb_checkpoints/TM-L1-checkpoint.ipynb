{
 "cells": [
  {
   "cell_type": "markdown",
   "metadata": {},
   "source": [
    "# Lab 1: Information Retrieval"
   ]
  },
  {
   "cell_type": "markdown",
   "metadata": {},
   "source": [
    "__Students:__ "
   ]
  },
  {
   "cell_type": "markdown",
   "metadata": {},
   "source": [
    "### Crawling\n",
    "\n"
   ]
  },
  {
   "cell_type": "markdown",
   "metadata": {},
   "source": [
    "a) Get the webpage content by using functions in \n",
    "__[urllib module](https://docs.python.org/3/library/urllib.html#module-urllib)__.\n",
    "\n",
    "Other libraries are also fine to achieve the crawling.\n",
    "\n",
    "e.g. scrapy, beautifulsoup... "
   ]
  },
  {
   "cell_type": "code",
   "execution_count": 141,
   "metadata": {
    "collapsed": true
   },
   "outputs": [],
   "source": [
    "import requests\n",
    "import bs4 as bs\n",
    "import re\n",
    "import pandas as pd"
   ]
  },
  {
   "cell_type": "markdown",
   "metadata": {},
   "source": [
    "b) Get the links for each \"see more\" button to loop over and app urls "
   ]
  },
  {
   "cell_type": "code",
   "execution_count": 142,
   "metadata": {
    "collapsed": true
   },
   "outputs": [],
   "source": [
    "base_url = 'https://play.google.com'\n",
    "category_urls = [\n",
    "    'https://play.google.com/store/apps?hl=en',\n",
    "    'https://play.google.com/store/apps/top?hl=en',\n",
    "    'https://play.google.com/store/apps/new?hl=en',\n",
    "    'https://play.google.com/store/apps/category/FAMILY?hl=en',\n",
    "    'https://play.google.com/store/apps/category/GAME?hl=en',\n",
    "]"
   ]
  },
  {
   "cell_type": "code",
   "execution_count": 143,
   "metadata": {},
   "outputs": [],
   "source": [
    "links = list()\n",
    "for url in category_urls:\n",
    "    resp = requests.get(url)\n",
    "    soup = bs.BeautifulSoup(resp.text, 'lxml')\n",
    "    links += [link['href'] for link in soup.find_all(\"a\", class_=\"see-more\", href=True)]"
   ]
  },
  {
   "cell_type": "code",
   "execution_count": 144,
   "metadata": {
    "collapsed": true
   },
   "outputs": [],
   "source": [
    "def get_game_urls(sub_url):\n",
    "    resp = requests.get(base_url + sub_url)\n",
    "    appreg = r'href=\\\"(/store/apps/details.*?)\\\"'\n",
    "    appre = re.compile(appreg)\n",
    "    app_url_list = re.findall(appre, resp.text)\n",
    "    return list(set(app_url_list))"
   ]
  },
  {
   "cell_type": "code",
   "execution_count": 145,
   "metadata": {
    "scrolled": true
   },
   "outputs": [],
   "source": [
    "app_suburls = list()\n",
    "for link in links:\n",
    "    app_suburls += get_game_urls(link)\n",
    "app_suburls = list(set(app_suburls))"
   ]
  },
  {
   "cell_type": "code",
   "execution_count": 146,
   "metadata": {
    "scrolled": true
   },
   "outputs": [
    {
     "name": "stdout",
     "output_type": "stream",
     "text": [
      "we have collected 1054 unique app urls\n"
     ]
    }
   ],
   "source": [
    "print('we have collected {} unique app urls'.format(len(app_suburls)))"
   ]
  },
  {
   "cell_type": "markdown",
   "metadata": {},
   "source": [
    "c) Access specific webpage to get description of each app and then store the description in files."
   ]
  },
  {
   "cell_type": "code",
   "execution_count": 147,
   "metadata": {
    "collapsed": true
   },
   "outputs": [],
   "source": [
    "def get_app_name_and_desc(app_url):\n",
    "    try:\n",
    "        resp = requests.get(base_url + app_url)\n",
    "        soup = bs.BeautifulSoup(resp.text, 'lxml')\n",
    "        title = soup.find('h1', {'itemprop' : 'name'}).text\n",
    "        desc = soup.find('div', {'jsname' : 'sngebd'}).text\n",
    "        return [title, desc]\n",
    "    except:\n",
    "        return []"
   ]
  },
  {
   "cell_type": "code",
   "execution_count": 148,
   "metadata": {
    "scrolled": true
   },
   "outputs": [],
   "source": [
    "data = list()\n",
    "counter = 0\n",
    "for url in app_suburls:\n",
    "    counter += 1\n",
    "    title_and_desc = get_app_name_and_desc(url)\n",
    "    if counter % 100 == 0:\n",
    "        print(f'processed {counter} apps')\n",
    "    if title_and_desc:\n",
    "        data.append(title_and_desc)"
   ]
  },
  {
   "cell_type": "code",
   "execution_count": 149,
   "metadata": {
    "collapsed": true
   },
   "outputs": [],
   "source": [
    "df = pd.DataFrame(columns=['title', 'desc'], data=data)"
   ]
  },
  {
   "cell_type": "code",
   "execution_count": 150,
   "metadata": {
    "scrolled": true
   },
   "outputs": [
    {
     "data": {
      "text/html": [
       "<div>\n",
       "<style scoped>\n",
       "    .dataframe tbody tr th:only-of-type {\n",
       "        vertical-align: middle;\n",
       "    }\n",
       "\n",
       "    .dataframe tbody tr th {\n",
       "        vertical-align: top;\n",
       "    }\n",
       "\n",
       "    .dataframe thead th {\n",
       "        text-align: right;\n",
       "    }\n",
       "</style>\n",
       "<table border=\"1\" class=\"dataframe\">\n",
       "  <thead>\n",
       "    <tr style=\"text-align: right;\">\n",
       "      <th></th>\n",
       "      <th>title</th>\n",
       "      <th>desc</th>\n",
       "    </tr>\n",
       "  </thead>\n",
       "  <tbody>\n",
       "    <tr>\n",
       "      <th>0</th>\n",
       "      <td>Solitaire</td>\n",
       "      <td>Solitaire by Me2Zen Solitaire Games is the Wor...</td>\n",
       "    </tr>\n",
       "    <tr>\n",
       "      <th>1</th>\n",
       "      <td>Wonka's World of Candy – Match 3</td>\n",
       "      <td>The keys to the factory are yours! Step into y...</td>\n",
       "    </tr>\n",
       "    <tr>\n",
       "      <th>2</th>\n",
       "      <td>LINE: Free Calls &amp; Messages</td>\n",
       "      <td>LINE reshapes communication around the globe, ...</td>\n",
       "    </tr>\n",
       "    <tr>\n",
       "      <th>3</th>\n",
       "      <td>DieMaus</td>\n",
       "      <td>Wir freuen uns, dir hier die offizielle App \"D...</td>\n",
       "    </tr>\n",
       "    <tr>\n",
       "      <th>4</th>\n",
       "      <td>LEGO® City game – new Arctic Explorers!</td>\n",
       "      <td>LEGO CITY ARCTIC EXPLORERS HAS ARRIVED!Explore...</td>\n",
       "    </tr>\n",
       "  </tbody>\n",
       "</table>\n",
       "</div>"
      ],
      "text/plain": [
       "                                     title  \\\n",
       "0                                Solitaire   \n",
       "1         Wonka's World of Candy – Match 3   \n",
       "2              LINE: Free Calls & Messages   \n",
       "3                                  DieMaus   \n",
       "4  LEGO® City game – new Arctic Explorers!   \n",
       "\n",
       "                                                desc  \n",
       "0  Solitaire by Me2Zen Solitaire Games is the Wor...  \n",
       "1  The keys to the factory are yours! Step into y...  \n",
       "2  LINE reshapes communication around the globe, ...  \n",
       "3  Wir freuen uns, dir hier die offizielle App \"D...  \n",
       "4  LEGO CITY ARCTIC EXPLORERS HAS ARRIVED!Explore...  "
      ]
     },
     "execution_count": 150,
     "metadata": {},
     "output_type": "execute_result"
    }
   ],
   "source": [
    "df.head()"
   ]
  },
  {
   "cell_type": "markdown",
   "metadata": {},
   "source": [
    "### Construct Inverted file index (Vector Model)\n",
    "\n"
   ]
  },
  {
   "cell_type": "markdown",
   "metadata": {},
   "source": [
    "d) Preprocess text using NLP techniques from __[nltk module](http://www.nltk.org/py-modindex.html)__ or spaCy.\n",
    "\n",
    "Using nltk.download(ID) to get the corpora if it is not downloaded before. __[nltk corpora](http://www.nltk.org/nltk_data/)__"
   ]
  },
  {
   "cell_type": "code",
   "execution_count": 169,
   "metadata": {
    "scrolled": false
   },
   "outputs": [
    {
     "name": "stdout",
     "output_type": "stream",
     "text": [
      "[nltk_data] Downloading package stopwords to /home/max/nltk_data...\n",
      "[nltk_data]   Package stopwords is already up-to-date!\n",
      "[nltk_data] Downloading package punkt to /home/max/nltk_data...\n",
      "[nltk_data]   Unzipping tokenizers/punkt.zip.\n"
     ]
    },
    {
     "data": {
      "text/plain": [
       "True"
      ]
     },
     "execution_count": 169,
     "metadata": {},
     "output_type": "execute_result"
    }
   ],
   "source": [
    "import nltk\n",
    "nltk.download('stopwords')\n",
    "nltk.download('punkt')"
   ]
  },
  {
   "cell_type": "code",
   "execution_count": 170,
   "metadata": {
    "collapsed": true
   },
   "outputs": [],
   "source": [
    "from nltk.corpus import stopwords\n",
    "from nltk import word_tokenize"
   ]
  },
  {
   "cell_type": "code",
   "execution_count": 179,
   "metadata": {
    "collapsed": true
   },
   "outputs": [],
   "source": [
    "def clean_desc(desc):\n",
    "    desc = desc.lower()\n",
    "    words = word_tokenize(desc)\n",
    "    words = [w for w in words if w not in stopwords.words('english') and w.isalnum()]\n",
    "    return words"
   ]
  },
  {
   "cell_type": "code",
   "execution_count": 180,
   "metadata": {},
   "outputs": [
    {
     "data": {
      "text/plain": [
       "['solitaire',\n",
       " 'me2zen',\n",
       " 'solitaire',\n",
       " 'games',\n",
       " 'world',\n",
       " '1',\n",
       " 'solitaire',\n",
       " 'card',\n",
       " 'game',\n",
       " 'android',\n",
       " 'google',\n",
       " 'play',\n",
       " 'completely',\n",
       " 'free',\n",
       " 'play',\n",
       " 'solitaire',\n",
       " 'also',\n",
       " 'known',\n",
       " 'klondike',\n",
       " 'solitaire',\n",
       " 'patience',\n",
       " 'solitaire',\n",
       " 'me2zen',\n",
       " 'popular',\n",
       " 'solitaire',\n",
       " 'card',\n",
       " 'game',\n",
       " 'like',\n",
       " 'solitaire',\n",
       " 'classic',\n",
       " 'spider',\n",
       " 'solitaire',\n",
       " 'freecell',\n",
       " 'solitaire',\n",
       " 'pyramid',\n",
       " 'solitaire',\n",
       " 'free',\n",
       " 'solitaire',\n",
       " 'patience',\n",
       " 'card',\n",
       " 'games',\n",
       " 'going',\n",
       " 'love',\n",
       " 'game',\n",
       " 'solitaire',\n",
       " 'me2zen',\n",
       " 'solitaire',\n",
       " 'games',\n",
       " 'features',\n",
       " 'classic',\n",
       " 'gameplay',\n",
       " 'easy',\n",
       " 'single',\n",
       " 'tap',\n",
       " 'place',\n",
       " 'card',\n",
       " 'drag',\n",
       " 'daily',\n",
       " 'fun',\n",
       " 'amazing',\n",
       " 'standard',\n",
       " 'klondike',\n",
       " 'winning',\n",
       " 'timer',\n",
       " 'vegas',\n",
       " 'solitaire',\n",
       " 'draw',\n",
       " '1',\n",
       " 'solitaire',\n",
       " 'draw',\n",
       " '3',\n",
       " 'choose',\n",
       " 'card',\n",
       " 'right',\n",
       " 'left',\n",
       " 'hand',\n",
       " 'deal',\n",
       " 'high',\n",
       " 'track',\n",
       " 'unlimited',\n",
       " 'free',\n",
       " 'unlimited',\n",
       " 'free',\n",
       " 'small',\n",
       " 'auto',\n",
       " 'complete',\n",
       " 'option',\n",
       " 'solve',\n",
       " 'phone',\n",
       " 'tablet',\n",
       " 'portrait',\n",
       " 'landscape',\n",
       " 'mode',\n",
       " 'supportedsolitaire',\n",
       " 'me2zen',\n",
       " 'perfects',\n",
       " 'core',\n",
       " 'playing',\n",
       " 'experience',\n",
       " 'know',\n",
       " 'love',\n",
       " 'fun',\n",
       " 'new',\n",
       " 'features',\n",
       " 'totally',\n",
       " 'optional',\n",
       " 'want',\n",
       " 'focus',\n",
       " 'purely',\n",
       " 'solitaire',\n",
       " 'nothing',\n",
       " 'could',\n",
       " 'easier',\n",
       " 'course',\n",
       " 'want',\n",
       " 'mix',\n",
       " 'new',\n",
       " 'challenges',\n",
       " 'solitaire',\n",
       " 'true',\n",
       " 'solitaire',\n",
       " 'sounds',\n",
       " 'like',\n",
       " 'solitaire',\n",
       " 'game',\n",
       " 'looking',\n",
       " 'get',\n",
       " 'disappointed',\n",
       " 'download',\n",
       " 'free']"
      ]
     },
     "execution_count": 180,
     "metadata": {},
     "output_type": "execute_result"
    }
   ],
   "source": [
    "clean_desc(df['desc'][0])"
   ]
  },
  {
   "cell_type": "markdown",
   "metadata": {},
   "source": [
    "...)Compute tdidf \n",
    "eg. Using functions from __[scikit-learn module](http://scikit-learn.org/stable/modules/classes.html)__. TfidfVectorizer is used for converting a collection of raw documents to a matrix of TF-IDF features.\n",
    "#### You can also build the tfidf matrix with other library or your own algorithm"
   ]
  },
  {
   "cell_type": "code",
   "execution_count": 4,
   "metadata": {
    "scrolled": true
   },
   "outputs": [
    {
     "name": "stdout",
     "output_type": "stream",
     "text": [
      "[[0.         0.46979139 0.58028582 0.38408524 0.         0.\n",
      "  0.38408524 0.         0.38408524]\n",
      " [0.         0.27925389 0.         0.22830836 0.         0.87501037\n",
      "  0.22830836 0.         0.22830836]\n",
      " [0.51184851 0.         0.         0.26710379 0.51184851 0.\n",
      "  0.26710379 0.51184851 0.26710379]\n",
      " [0.         0.46979139 0.58028582 0.38408524 0.         0.\n",
      "  0.38408524 0.         0.38408524]]\n",
      "['and', 'document', 'first', 'is', 'one', 'second', 'the', 'third', 'this']\n"
     ]
    }
   ],
   "source": [
    "from sklearn.feature_extraction.text import TfidfVectorizer\n",
    "transvector = TfidfVectorizer()\n",
    "corpus = [\n",
    "     'This is the first document.',\n",
    "     'This is the second second document.',\n",
    "     'And this is the third one.',\n",
    "     'Is this the first document?',]\n",
    "tfidf1 = transvector.fit_transform(corpus)\n",
    "print(tfidf1.toarray())\n",
    "print(transvector.get_feature_names())\n"
   ]
  },
  {
   "cell_type": "markdown",
   "metadata": {},
   "source": [
    "### Query Process\n",
    "\n",
    "eg. \"Dragon, Control, hero, running\"\n",
    "\n",
    "eg. \"The hero controls the dragon to run.\"\n",
    "\n"
   ]
  },
  {
   "cell_type": "code",
   "execution_count": null,
   "metadata": {
    "collapsed": true
   },
   "outputs": [],
   "source": []
  }
 ],
 "metadata": {
  "kernelspec": {
   "display_name": "Python 3",
   "language": "python",
   "name": "python3"
  },
  "language_info": {
   "codemirror_mode": {
    "name": "ipython",
    "version": 3
   },
   "file_extension": ".py",
   "mimetype": "text/x-python",
   "name": "python",
   "nbconvert_exporter": "python",
   "pygments_lexer": "ipython3",
   "version": "3.6.3"
  }
 },
 "nbformat": 4,
 "nbformat_minor": 2
}
