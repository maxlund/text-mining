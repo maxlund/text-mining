{
 "cells": [
  {
   "cell_type": "markdown",
   "metadata": {},
   "source": [
    "# Lab 1: Information Retrieval"
   ]
  },
  {
   "cell_type": "markdown",
   "metadata": {},
   "source": [
    "### Step 1: retrieve app names from google play"
   ]
  },
  {
   "cell_type": "markdown",
   "metadata": {},
   "source": [
    "First we get the links for the apps that we want to collect information about."
   ]
  },
  {
   "cell_type": "code",
   "execution_count": 1,
   "metadata": {},
   "outputs": [],
   "source": [
    "import requests\n",
    "import bs4 as bs\n",
    "import re\n",
    "import pandas as pd"
   ]
  },
  {
   "cell_type": "code",
   "execution_count": 142,
   "metadata": {
    "collapsed": true
   },
   "outputs": [],
   "source": [
    "base_url = 'https://play.google.com'\n",
    "category_urls = [\n",
    "    'https://play.google.com/store/apps?hl=en',\n",
    "    'https://play.google.com/store/apps/top?hl=en',\n",
    "    'https://play.google.com/store/apps/new?hl=en',\n",
    "    'https://play.google.com/store/apps/category/FAMILY?hl=en',\n",
    "    'https://play.google.com/store/apps/category/GAME?hl=en',\n",
    "]"
   ]
  },
  {
   "cell_type": "code",
   "execution_count": 143,
   "metadata": {},
   "outputs": [],
   "source": [
    "links = list()\n",
    "for url in category_urls:\n",
    "    resp = requests.get(url)\n",
    "    soup = bs.BeautifulSoup(resp.text, 'lxml')\n",
    "    links += [link['href'] for link in soup.find_all(\"a\", class_=\"see-more\", href=True)]"
   ]
  },
  {
   "cell_type": "code",
   "execution_count": 144,
   "metadata": {
    "collapsed": true
   },
   "outputs": [],
   "source": [
    "def get_game_urls(sub_url):\n",
    "    resp = requests.get(base_url + sub_url)\n",
    "    appreg = r'href=\\\"(/store/apps/details.*?)\\\"'\n",
    "    appre = re.compile(appreg)\n",
    "    app_url_list = re.findall(appre, resp.text)\n",
    "    return list(set(app_url_list))"
   ]
  },
  {
   "cell_type": "code",
   "execution_count": 145,
   "metadata": {
    "scrolled": true
   },
   "outputs": [],
   "source": [
    "app_suburls = list()\n",
    "for link in links:\n",
    "    app_suburls += get_game_urls(link)\n",
    "app_suburls = list(set(app_suburls))"
   ]
  },
  {
   "cell_type": "code",
   "execution_count": 146,
   "metadata": {
    "scrolled": true
   },
   "outputs": [
    {
     "name": "stdout",
     "output_type": "stream",
     "text": [
      "we have collected 1054 unique app urls\n"
     ]
    }
   ],
   "source": [
    "print('we have collected {} unique app urls'.format(len(app_suburls)))"
   ]
  },
  {
   "cell_type": "markdown",
   "metadata": {},
   "source": [
    "Now we can gather the app title and description by following the collected links."
   ]
  },
  {
   "cell_type": "code",
   "execution_count": 147,
   "metadata": {
    "collapsed": true
   },
   "outputs": [],
   "source": [
    "def get_app_name_and_desc(app_url):\n",
    "    try:\n",
    "        resp = requests.get(base_url + app_url)\n",
    "        soup = bs.BeautifulSoup(resp.text, 'lxml')\n",
    "        title = soup.find('h1', {'itemprop' : 'name'}).text\n",
    "        desc = soup.find('div', {'jsname' : 'sngebd'}).text\n",
    "        return [title, desc]\n",
    "    except:\n",
    "        return []"
   ]
  },
  {
   "cell_type": "code",
   "execution_count": 148,
   "metadata": {
    "scrolled": true
   },
   "outputs": [],
   "source": [
    "data = list()\n",
    "counter = 0\n",
    "for url in app_suburls:\n",
    "    counter += 1\n",
    "    title_and_desc = get_app_name_and_desc(url)\n",
    "    if counter % 100 == 0:\n",
    "        print(f'processed {counter} apps')\n",
    "    if title_and_desc:\n",
    "        data.append(title_and_desc)"
   ]
  },
  {
   "cell_type": "code",
   "execution_count": 149,
   "metadata": {
    "collapsed": true
   },
   "outputs": [],
   "source": [
    "df = pd.DataFrame(columns=['title', 'desc'], data=data)"
   ]
  },
  {
   "cell_type": "markdown",
   "metadata": {},
   "source": [
    "### Step 2: Clean our collected app descriptions"
   ]
  },
  {
   "cell_type": "markdown",
   "metadata": {},
   "source": [
    "We lowecase, tokenize and stem all the description strings for our apps."
   ]
  },
  {
   "cell_type": "code",
   "execution_count": 3,
   "metadata": {
    "scrolled": false
   },
   "outputs": [
    {
     "name": "stdout",
     "output_type": "stream",
     "text": [
      "[nltk_data] Downloading package stopwords to\n",
      "[nltk_data]     /home/simja114/nltk_data...\n",
      "[nltk_data]   Unzipping corpora/stopwords.zip.\n",
      "[nltk_data] Downloading package punkt to /home/simja114/nltk_data...\n",
      "[nltk_data]   Unzipping tokenizers/punkt.zip.\n"
     ]
    },
    {
     "data": {
      "text/plain": [
       "True"
      ]
     },
     "execution_count": 3,
     "metadata": {},
     "output_type": "execute_result"
    }
   ],
   "source": [
    "import nltk\n",
    "nltk.download('stopwords')\n",
    "nltk.download('punkt')"
   ]
  },
  {
   "cell_type": "code",
   "execution_count": 79,
   "metadata": {},
   "outputs": [],
   "source": [
    "from nltk.corpus import stopwords\n",
    "from nltk import word_tokenize\n",
    "from nltk.stem import PorterStemmer"
   ]
  },
  {
   "cell_type": "code",
   "execution_count": 80,
   "metadata": {},
   "outputs": [],
   "source": [
    "ps = PorterStemmer()"
   ]
  },
  {
   "cell_type": "code",
   "execution_count": 90,
   "metadata": {},
   "outputs": [],
   "source": [
    "def clean(desc):\n",
    "    \"\"\"Lowercase, tokenize and stem a string\"\"\"\n",
    "    desc = desc.lower()\n",
    "    words = word_tokenize(desc)\n",
    "    words = ' '.join([ps.stem(w) for w in words if w not in stopwords.words('english') and w.isalpha()])\n",
    "    return words"
   ]
  },
  {
   "cell_type": "code",
   "execution_count": 91,
   "metadata": {},
   "outputs": [],
   "source": [
    "df['desc'] = df['desc'].apply(lambda x: clean(x))"
   ]
  },
  {
   "cell_type": "markdown",
   "metadata": {},
   "source": [
    "Some investigation showed that we havea few duplicate titles, we can remove those."
   ]
  },
  {
   "cell_type": "code",
   "execution_count": 94,
   "metadata": {
    "scrolled": false
   },
   "outputs": [],
   "source": [
    "df = df.drop_duplicates(subset='title')"
   ]
  },
  {
   "cell_type": "markdown",
   "metadata": {},
   "source": [
    "### Step 3: Create tfidf model"
   ]
  },
  {
   "cell_type": "markdown",
   "metadata": {},
   "source": [
    "The inverse document frequency (idf) is calculated as:"
   ]
  },
  {
   "cell_type": "markdown",
   "metadata": {},
   "source": [
    "$$\\log{\\frac{N}{D : t \\in D}}$$"
   ]
  },
  {
   "cell_type": "markdown",
   "metadata": {},
   "source": [
    "Where N are the total number of documents in the corpus and D are the number of documents which contains the term t."
   ]
  },
  {
   "cell_type": "markdown",
   "metadata": {},
   "source": [
    "The term frequency is calculated as:"
   ]
  },
  {
   "cell_type": "markdown",
   "metadata": {},
   "source": [
    "$$\\frac{tf_d(t)}{max(tf_{d^*}(t))}$$"
   ]
  },
  {
   "cell_type": "markdown",
   "metadata": {},
   "source": [
    "The weights vectors, tfidf, are now calculated as:"
   ]
  },
  {
   "cell_type": "markdown",
   "metadata": {},
   "source": [
    "$$tfidf(t, d, D, N) = tf_d(t, d) * idf(t, D, N)$$"
   ]
  },
  {
   "cell_type": "markdown",
   "metadata": {},
   "source": [
    "By calculating the cosine similarity of a query vector to the tfidf weight vectors, we can find the most similar documents to our query."
   ]
  },
  {
   "cell_type": "code",
   "execution_count": 96,
   "metadata": {
    "scrolled": true
   },
   "outputs": [],
   "source": [
    "from sklearn.feature_extraction.text import TfidfVectorizer\n",
    "vectorizer = TfidfVectorizer(\n",
    "    use_idf=True, \n",
    "    smooth_idf=True,\n",
    "    analyzer='word'\n",
    ")\n",
    "corpus = df['desc'].values\n",
    "tfidf = vectorizer.fit_transform(corpus)"
   ]
  },
  {
   "cell_type": "code",
   "execution_count": 97,
   "metadata": {
    "scrolled": false
   },
   "outputs": [
    {
     "name": "stdout",
     "output_type": "stream",
     "text": [
      "(1032, 11997)\n"
     ]
    }
   ],
   "source": [
    "print(tfidf.shape)"
   ]
  },
  {
   "cell_type": "markdown",
   "metadata": {},
   "source": [
    "Let's try to calculate the cosine similarity of the first document with all the others"
   ]
  },
  {
   "cell_type": "code",
   "execution_count": 98,
   "metadata": {},
   "outputs": [],
   "source": [
    "from sklearn.metrics.pairwise import linear_kernel"
   ]
  },
  {
   "cell_type": "code",
   "execution_count": 99,
   "metadata": {},
   "outputs": [],
   "source": [
    "cosine_similarities = linear_kernel(tfidf[0], tfidf).flatten()"
   ]
  },
  {
   "cell_type": "markdown",
   "metadata": {},
   "source": [
    "If we sort on the similarities, we can find the indices of the most similar documents, where the last document should be at index 0, since te similarity of the first document with itself should be one."
   ]
  },
  {
   "cell_type": "code",
   "execution_count": 100,
   "metadata": {
    "scrolled": false
   },
   "outputs": [],
   "source": [
    "idxs = cosine_similarities.argsort()[-5:]"
   ]
  },
  {
   "cell_type": "code",
   "execution_count": 101,
   "metadata": {},
   "outputs": [
    {
     "data": {
      "text/plain": [
       "title                                            Solitaire\n",
       "desc     solitair solitair game world solitair card gam...\n",
       "Name: 0, dtype: object"
      ]
     },
     "metadata": {},
     "output_type": "display_data"
    },
    {
     "data": {
      "text/plain": [
       "title                                           Solitaire!\n",
       "desc     play free solitair klondik solitair patienc ca...\n",
       "Name: 392, dtype: object"
      ]
     },
     "metadata": {},
     "output_type": "display_data"
    },
    {
     "data": {
      "text/plain": [
       "title                                     Spider Solitaire\n",
       "desc     spider solitair mobilitywar fun challeng card ...\n",
       "Name: 533, dtype: object"
      ]
     },
     "metadata": {},
     "output_type": "display_data"
    },
    {
     "data": {
      "text/plain": [
       "title                                    Pyramid Solitaire\n",
       "desc     play classic free card game pyramid solitair a...\n",
       "Name: 883, dtype: object"
      ]
     },
     "metadata": {},
     "output_type": "display_data"
    },
    {
     "data": {
      "text/plain": [
       "title    Solitaire TriPeaks: Play Free Solitaire Card G...\n",
       "desc     win play compet solitair tripeak fun free card...\n",
       "Name: 448, dtype: object"
      ]
     },
     "metadata": {},
     "output_type": "display_data"
    }
   ],
   "source": [
    "for i in reversed(idxs):\n",
    "    display(df.iloc[i])"
   ]
  },
  {
   "cell_type": "markdown",
   "metadata": {},
   "source": [
    "Looks really good! The most similar documents are all versions of Solitaire. Let's pack this into a function."
   ]
  },
  {
   "cell_type": "code",
   "execution_count": 102,
   "metadata": {},
   "outputs": [],
   "source": [
    "def find_k_similar_docs(query, vectorizer, tfidf, k):\n",
    "    \"\"\"Prints the k most similar documents to the input query\"\"\"\n",
    "    query = clean(query)\n",
    "    query_vector = vectorizer.transform([query])\n",
    "    cosine_similarities = linear_kernel(query_vector, tfidf).flatten()\n",
    "    idxs = cosine_similarities.argsort()[-k:]\n",
    "    for i in reversed(idxs):\n",
    "        display(df.iloc[i])"
   ]
  },
  {
   "cell_type": "markdown",
   "metadata": {},
   "source": [
    "### Query Process\n",
    "\n",
    "eg. \"Dragon, Control, hero, running\"\n",
    "\n",
    "eg. \"The hero controls the dragon to run.\"\n",
    "\n"
   ]
  },
  {
   "cell_type": "code",
   "execution_count": 104,
   "metadata": {},
   "outputs": [
    {
     "data": {
      "text/plain": [
       "title                       Baby Dragons: Ever After High™\n",
       "desc     babi dragon arriv ever high time dragon game h...\n",
       "Name: 352, dtype: object"
      ]
     },
     "metadata": {},
     "output_type": "display_data"
    },
    {
     "data": {
      "text/plain": [
       "title                                          Dragon City\n",
       "desc     readi take hottest battl game train dragon one...\n",
       "Name: 149, dtype: object"
      ]
     },
     "metadata": {},
     "output_type": "display_data"
    },
    {
     "data": {
      "text/plain": [
       "title                                    School of Dragons\n",
       "desc     join hiccup toothless astrid rest vike school ...\n",
       "Name: 965, dtype: object"
      ]
     },
     "metadata": {},
     "output_type": "display_data"
    },
    {
     "data": {
      "text/plain": [
       "title                                       Merge Dragons!\n",
       "desc     discov dragon legend magic quest secret land e...\n",
       "Name: 82, dtype: object"
      ]
     },
     "metadata": {},
     "output_type": "display_data"
    },
    {
     "data": {
      "text/plain": [
       "title                                 Dragon Mania Legends\n",
       "desc     dragon mania legend anyon want pet dragon obvi...\n",
       "Name: 853, dtype: object"
      ]
     },
     "metadata": {},
     "output_type": "display_data"
    }
   ],
   "source": [
    "find_k_similar_docs(\"Dragon, Control, hero, running\", vectorizer, tfidf, 5)"
   ]
  },
  {
   "cell_type": "code",
   "execution_count": 105,
   "metadata": {
    "scrolled": true
   },
   "outputs": [
    {
     "data": {
      "text/plain": [
       "title                       Baby Dragons: Ever After High™\n",
       "desc     babi dragon arriv ever high time dragon game h...\n",
       "Name: 352, dtype: object"
      ]
     },
     "metadata": {},
     "output_type": "display_data"
    },
    {
     "data": {
      "text/plain": [
       "title                                          Dragon City\n",
       "desc     readi take hottest battl game train dragon one...\n",
       "Name: 149, dtype: object"
      ]
     },
     "metadata": {},
     "output_type": "display_data"
    },
    {
     "data": {
      "text/plain": [
       "title                                    School of Dragons\n",
       "desc     join hiccup toothless astrid rest vike school ...\n",
       "Name: 965, dtype: object"
      ]
     },
     "metadata": {},
     "output_type": "display_data"
    },
    {
     "data": {
      "text/plain": [
       "title                                       Merge Dragons!\n",
       "desc     discov dragon legend magic quest secret land e...\n",
       "Name: 82, dtype: object"
      ]
     },
     "metadata": {},
     "output_type": "display_data"
    },
    {
     "data": {
      "text/plain": [
       "title                                 Dragon Mania Legends\n",
       "desc     dragon mania legend anyon want pet dragon obvi...\n",
       "Name: 853, dtype: object"
      ]
     },
     "metadata": {},
     "output_type": "display_data"
    }
   ],
   "source": [
    "find_k_similar_docs(\"The hero controls the dragon to run.\", vectorizer, tfidf, 5)"
   ]
  }
 ],
 "metadata": {
  "kernelspec": {
   "display_name": "Python 3",
   "language": "python",
   "name": "python3"
  },
  "language_info": {
   "codemirror_mode": {
    "name": "ipython",
    "version": 3
   },
   "file_extension": ".py",
   "mimetype": "text/x-python",
   "name": "python",
   "nbconvert_exporter": "python",
   "pygments_lexer": "ipython3",
   "version": "3.4.3"
  }
 },
 "nbformat": 4,
 "nbformat_minor": 2
}
