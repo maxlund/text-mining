{
 "cells": [
  {
   "cell_type": "markdown",
   "metadata": {},
   "source": [
    "# Lab 1: Information Retrieval"
   ]
  },
  {
   "cell_type": "markdown",
   "metadata": {},
   "source": [
    "### Step 1: retrieve at least 1000 app titles and descriptions from google play"
   ]
  },
  {
   "cell_type": "markdown",
   "metadata": {},
   "source": [
    "First we get the links for the apps that we want to collect information about."
   ]
  },
  {
   "cell_type": "code",
   "execution_count": 1,
   "metadata": {
    "collapsed": true
   },
   "outputs": [],
   "source": [
    "import requests\n",
    "import bs4 as bs\n",
    "import re\n",
    "import pandas as pd"
   ]
  },
  {
   "cell_type": "code",
   "execution_count": 2,
   "metadata": {
    "collapsed": true
   },
   "outputs": [],
   "source": [
    "base_url = 'https://play.google.com'\n",
    "category_urls = [\n",
    "    'https://play.google.com/store/apps?hl=en',\n",
    "    'https://play.google.com/store/apps/top?hl=en',\n",
    "    'https://play.google.com/store/apps/new?hl=en',\n",
    "    'https://play.google.com/store/apps/category/FAMILY?hl=en',\n",
    "    'https://play.google.com/store/apps/category/GAME?hl=en',\n",
    "]"
   ]
  },
  {
   "cell_type": "code",
   "execution_count": 3,
   "metadata": {
    "collapsed": true
   },
   "outputs": [],
   "source": [
    "links = list()\n",
    "for url in category_urls:\n",
    "    resp = requests.get(url)\n",
    "    soup = bs.BeautifulSoup(resp.text, 'lxml')\n",
    "    links += [link['href'] for link in soup.find_all(\"a\", class_=\"see-more\", href=True)]"
   ]
  },
  {
   "cell_type": "code",
   "execution_count": 4,
   "metadata": {
    "collapsed": true
   },
   "outputs": [],
   "source": [
    "def get_game_urls(sub_url):\n",
    "    resp = requests.get(base_url + sub_url)\n",
    "    appreg = r'href=\\\"(/store/apps/details.*?)\\\"'\n",
    "    appre = re.compile(appreg)\n",
    "    app_url_list = re.findall(appre, resp.text)\n",
    "    return list(set(app_url_list))"
   ]
  },
  {
   "cell_type": "code",
   "execution_count": 5,
   "metadata": {
    "collapsed": true,
    "scrolled": true
   },
   "outputs": [],
   "source": [
    "app_suburls = list()\n",
    "for link in links:\n",
    "    app_suburls += get_game_urls(link)\n",
    "app_suburls = list(set(app_suburls))"
   ]
  },
  {
   "cell_type": "code",
   "execution_count": 6,
   "metadata": {
    "scrolled": true
   },
   "outputs": [
    {
     "name": "stdout",
     "output_type": "stream",
     "text": [
      "we have collected 1034 unique app urls\n"
     ]
    }
   ],
   "source": [
    "print('we have collected {} unique app urls'.format(len(app_suburls)))"
   ]
  },
  {
   "cell_type": "markdown",
   "metadata": {},
   "source": [
    "Now we can gather the app title and description by following the collected links."
   ]
  },
  {
   "cell_type": "code",
   "execution_count": 7,
   "metadata": {
    "collapsed": true
   },
   "outputs": [],
   "source": [
    "def get_app_name_and_desc(app_url):\n",
    "    try:\n",
    "        resp = requests.get(base_url + app_url)\n",
    "        soup = bs.BeautifulSoup(resp.text, 'lxml')\n",
    "        title = soup.find('h1', {'itemprop' : 'name'}).text\n",
    "        desc = soup.find('div', {'jsname' : 'sngebd'}).text\n",
    "        return [title, desc]\n",
    "    except:\n",
    "        return []"
   ]
  },
  {
   "cell_type": "code",
   "execution_count": 8,
   "metadata": {
    "scrolled": true
   },
   "outputs": [
    {
     "name": "stdout",
     "output_type": "stream",
     "text": [
      "processed 100 apps\n",
      "processed 200 apps\n",
      "processed 300 apps\n",
      "processed 400 apps\n",
      "processed 500 apps\n",
      "processed 600 apps\n",
      "processed 700 apps\n",
      "processed 800 apps\n",
      "processed 900 apps\n",
      "processed 1000 apps\n"
     ]
    }
   ],
   "source": [
    "data = list()\n",
    "counter = 0\n",
    "for url in app_suburls:\n",
    "    counter += 1\n",
    "    title_and_desc = get_app_name_and_desc(url)\n",
    "    if counter % 100 == 0:\n",
    "        print(f'processed {counter} apps')\n",
    "    if title_and_desc:\n",
    "        data.append(title_and_desc)"
   ]
  },
  {
   "cell_type": "markdown",
   "metadata": {},
   "source": [
    "The collected app titles and descriptions can be put into a pandas dataframe to simplify later indexing into the data."
   ]
  },
  {
   "cell_type": "code",
   "execution_count": 9,
   "metadata": {
    "collapsed": true
   },
   "outputs": [],
   "source": [
    "df = pd.DataFrame(columns=['title', 'desc'], data=data)"
   ]
  },
  {
   "cell_type": "markdown",
   "metadata": {},
   "source": [
    "### Step 2: Clean our collected app descriptions"
   ]
  },
  {
   "cell_type": "markdown",
   "metadata": {},
   "source": [
    "We lowecase, tokenize and stem all the description strings for our apps."
   ]
  },
  {
   "cell_type": "code",
   "execution_count": 10,
   "metadata": {
    "scrolled": false
   },
   "outputs": [
    {
     "name": "stdout",
     "output_type": "stream",
     "text": [
      "[nltk_data] Downloading package stopwords to /home/max/nltk_data...\n",
      "[nltk_data]   Package stopwords is already up-to-date!\n",
      "[nltk_data] Downloading package punkt to /home/max/nltk_data...\n",
      "[nltk_data]   Package punkt is already up-to-date!\n"
     ]
    },
    {
     "data": {
      "text/plain": [
       "True"
      ]
     },
     "execution_count": 10,
     "metadata": {},
     "output_type": "execute_result"
    }
   ],
   "source": [
    "import nltk\n",
    "# download the required parts of nltk needed\n",
    "nltk.download('stopwords')\n",
    "nltk.download('punkt')"
   ]
  },
  {
   "cell_type": "code",
   "execution_count": 11,
   "metadata": {
    "collapsed": true
   },
   "outputs": [],
   "source": [
    "from nltk.corpus import stopwords\n",
    "from nltk import word_tokenize\n",
    "from nltk.stem import PorterStemmer"
   ]
  },
  {
   "cell_type": "code",
   "execution_count": 12,
   "metadata": {
    "collapsed": true
   },
   "outputs": [],
   "source": [
    "ps = PorterStemmer()"
   ]
  },
  {
   "cell_type": "code",
   "execution_count": 13,
   "metadata": {
    "collapsed": true
   },
   "outputs": [],
   "source": [
    "def clean(desc):\n",
    "    \"\"\"Lowercase, tokenize and stem a string\"\"\"\n",
    "    desc = desc.lower()\n",
    "    words = word_tokenize(desc)\n",
    "    words = ' '.join([ps.stem(w) for w in words if w not in stopwords.words('english') and w.isalpha()])\n",
    "    return words"
   ]
  },
  {
   "cell_type": "code",
   "execution_count": 14,
   "metadata": {
    "collapsed": true
   },
   "outputs": [],
   "source": [
    "# apply our cleaning function to every description\n",
    "df['desc'] = df['desc'].apply(lambda x: clean(x))"
   ]
  },
  {
   "cell_type": "markdown",
   "metadata": {},
   "source": [
    "Some investigation showed that we have a few duplicate titles, we can remove those."
   ]
  },
  {
   "cell_type": "code",
   "execution_count": 15,
   "metadata": {
    "collapsed": true,
    "scrolled": false
   },
   "outputs": [],
   "source": [
    "df = df.drop_duplicates(subset='title')"
   ]
  },
  {
   "cell_type": "markdown",
   "metadata": {},
   "source": [
    "### Step 3: Create tfidf model"
   ]
  },
  {
   "cell_type": "markdown",
   "metadata": {},
   "source": [
    "The inverse document frequency (idf) is calculated as:"
   ]
  },
  {
   "cell_type": "markdown",
   "metadata": {},
   "source": [
    "$$\\log{\\frac{N}{1 + D : t \\in D}}$$"
   ]
  },
  {
   "cell_type": "markdown",
   "metadata": {},
   "source": [
    "Where N are the total number of documents in the corpus and D are the number of documents which contains the term t. To avoid division by zero when there are no occurrences of the term in any document, the has an addition by 1."
   ]
  },
  {
   "cell_type": "markdown",
   "metadata": {},
   "source": [
    "The term frequency is calculated as, using the frequency of the term in the document divided by the frequency of the most occuring term in the document (\"normalizing\" to prevent bias towards longer documents):"
   ]
  },
  {
   "cell_type": "markdown",
   "metadata": {},
   "source": [
    "$$\\frac{tf_d(t)}{max(tf_{d^*}(t))}$$"
   ]
  },
  {
   "cell_type": "markdown",
   "metadata": {},
   "source": [
    "The weights vectors, tfidf, are now calculated as:"
   ]
  },
  {
   "cell_type": "markdown",
   "metadata": {},
   "source": [
    "$$tfidf(t, d, D, N) = tf_d(t, d) * idf(t, D, N)$$"
   ]
  },
  {
   "cell_type": "markdown",
   "metadata": {},
   "source": [
    "An incoming query can be vectorized using the idf learned from the corpus. The cosine similarity between this query vector and all the document vectors in the tfidf matrix can then be calculated, enabling us to find the similarity of the query to the documents."
   ]
  },
  {
   "cell_type": "code",
   "execution_count": 16,
   "metadata": {
    "collapsed": true,
    "scrolled": true
   },
   "outputs": [],
   "source": [
    "from sklearn.feature_extraction.text import TfidfVectorizer\n",
    "vectorizer = TfidfVectorizer(\n",
    "    use_idf=True, \n",
    "    smooth_idf=True,\n",
    "    analyzer='word'\n",
    ")\n",
    "corpus = df['desc'].values\n",
    "tfidf = vectorizer.fit_transform(corpus)"
   ]
  },
  {
   "cell_type": "code",
   "execution_count": 17,
   "metadata": {
    "scrolled": false
   },
   "outputs": [
    {
     "name": "stdout",
     "output_type": "stream",
     "text": [
      "(1016, 11520)\n"
     ]
    }
   ],
   "source": [
    "print(tfidf.shape)"
   ]
  },
  {
   "cell_type": "markdown",
   "metadata": {},
   "source": [
    "Let's try to calculate the cosine similarity of the first document with all the others. The first document is printed below."
   ]
  },
  {
   "cell_type": "code",
   "execution_count": 26,
   "metadata": {},
   "outputs": [
    {
     "data": {
      "text/plain": [
       "title                           FPS.io (Fast-Play Shooter)\n",
       "desc     play hero possess uniqu skill unlimit global n...\n",
       "Name: 0, dtype: object"
      ]
     },
     "metadata": {},
     "output_type": "display_data"
    }
   ],
   "source": [
    "df.iloc[0]"
   ]
  },
  {
   "cell_type": "code",
   "execution_count": 18,
   "metadata": {
    "collapsed": true
   },
   "outputs": [],
   "source": [
    "from sklearn.metrics.pairwise import linear_kernel"
   ]
  },
  {
   "cell_type": "code",
   "execution_count": 19,
   "metadata": {
    "collapsed": true
   },
   "outputs": [],
   "source": [
    "cosine_similarities = linear_kernel(tfidf[0], tfidf).flatten()"
   ]
  },
  {
   "cell_type": "markdown",
   "metadata": {},
   "source": [
    "If we sort on the similarities, we can find the indices of the most similar documents, where the last document should be at index 0, since te similarity of the first document with itself should be one."
   ]
  },
  {
   "cell_type": "code",
   "execution_count": 20,
   "metadata": {
    "collapsed": true,
    "scrolled": false
   },
   "outputs": [],
   "source": [
    "idxs = cosine_similarities.argsort()[-5:]"
   ]
  },
  {
   "cell_type": "code",
   "execution_count": 21,
   "metadata": {},
   "outputs": [
    {
     "data": {
      "text/plain": [
       "title                           FPS.io (Fast-Play Shooter)\n",
       "desc     play hero possess uniqu skill unlimit global n...\n",
       "Name: 0, dtype: object"
      ]
     },
     "metadata": {},
     "output_type": "display_data"
    },
    {
     "data": {
      "text/plain": [
       "title                Heroes of Warland - PvP Shooter Arena\n",
       "desc     hero warland competit onlin pvp hero base fp f...\n",
       "Name: 480, dtype: object"
      ]
     },
     "metadata": {},
     "output_type": "display_data"
    },
    {
     "data": {
      "text/plain": [
       "title                               Three kingdoms rebirth\n",
       "desc     game mobil game automat use easi even away gam...\n",
       "Name: 423, dtype: object"
      ]
     },
     "metadata": {},
     "output_type": "display_data"
    },
    {
     "data": {
      "text/plain": [
       "title                         Empires & Puzzles: RPG Quest\n",
       "desc     empir puzzl complet new take rpg game combin b...\n",
       "Name: 812, dtype: object"
      ]
     },
     "metadata": {},
     "output_type": "display_data"
    },
    {
     "data": {
      "text/plain": [
       "title                          Questland: RPG Heroes Quest\n",
       "desc     dive beauti questland rpg world collect power ...\n",
       "Name: 845, dtype: object"
      ]
     },
     "metadata": {},
     "output_type": "display_data"
    }
   ],
   "source": [
    "for i in reversed(idxs):\n",
    "    display(df.iloc[i])"
   ]
  },
  {
   "cell_type": "markdown",
   "metadata": {},
   "source": [
    "Looks really good! The most similar document is the document itself, which makes sense."
   ]
  },
  {
   "cell_type": "code",
   "execution_count": 22,
   "metadata": {
    "collapsed": true
   },
   "outputs": [],
   "source": [
    "def find_k_similar_docs(query, vectorizer, tfidf, k):\n",
    "    \"\"\"Prints the k most similar documents to the input query\"\"\"\n",
    "    query_vector = vectorizer.transform([clean(query)])\n",
    "    cosine_similarities = linear_kernel(query_vector, tfidf).flatten()\n",
    "    idxs = cosine_similarities.argsort()[-k:]\n",
    "    for i in reversed(idxs):\n",
    "        display(df.iloc[i])"
   ]
  },
  {
   "cell_type": "markdown",
   "metadata": {},
   "source": [
    "### Query Process\n",
    "\n",
    "eg. \"Dragon, Control, hero, running\"\n",
    "\n",
    "eg. \"The hero controls the dragon to run.\"\n",
    "\n"
   ]
  },
  {
   "cell_type": "code",
   "execution_count": 23,
   "metadata": {},
   "outputs": [
    {
     "data": {
      "text/plain": [
       "title                       Baby Dragons: Ever After High™\n",
       "desc     babi dragon arriv ever high time dragon game h...\n",
       "Name: 318, dtype: object"
      ]
     },
     "metadata": {},
     "output_type": "display_data"
    },
    {
     "data": {
      "text/plain": [
       "title                                          Dragon City\n",
       "desc     readi take hottest battl game train dragon one...\n",
       "Name: 843, dtype: object"
      ]
     },
     "metadata": {},
     "output_type": "display_data"
    },
    {
     "data": {
      "text/plain": [
       "title                                    School of Dragons\n",
       "desc     join hiccup toothless astrid rest vike school ...\n",
       "Name: 337, dtype: object"
      ]
     },
     "metadata": {},
     "output_type": "display_data"
    },
    {
     "data": {
      "text/plain": [
       "title                                       Merge Dragons!\n",
       "desc     discov dragon legend magic quest secret land e...\n",
       "Name: 83, dtype: object"
      ]
     },
     "metadata": {},
     "output_type": "display_data"
    },
    {
     "data": {
      "text/plain": [
       "title                        Alliance: Heroes of the Spire\n",
       "desc     welcom allianc hero spire latest rpg collect p...\n",
       "Name: 509, dtype: object"
      ]
     },
     "metadata": {},
     "output_type": "display_data"
    }
   ],
   "source": [
    "find_k_similar_docs(\"Dragon, Control, hero, running\", vectorizer, tfidf, 5)"
   ]
  },
  {
   "cell_type": "code",
   "execution_count": 24,
   "metadata": {
    "scrolled": true
   },
   "outputs": [
    {
     "data": {
      "text/plain": [
       "title                       Baby Dragons: Ever After High™\n",
       "desc     babi dragon arriv ever high time dragon game h...\n",
       "Name: 318, dtype: object"
      ]
     },
     "metadata": {},
     "output_type": "display_data"
    },
    {
     "data": {
      "text/plain": [
       "title                                          Dragon City\n",
       "desc     readi take hottest battl game train dragon one...\n",
       "Name: 843, dtype: object"
      ]
     },
     "metadata": {},
     "output_type": "display_data"
    },
    {
     "data": {
      "text/plain": [
       "title                                    School of Dragons\n",
       "desc     join hiccup toothless astrid rest vike school ...\n",
       "Name: 337, dtype: object"
      ]
     },
     "metadata": {},
     "output_type": "display_data"
    },
    {
     "data": {
      "text/plain": [
       "title                                       Merge Dragons!\n",
       "desc     discov dragon legend magic quest secret land e...\n",
       "Name: 83, dtype: object"
      ]
     },
     "metadata": {},
     "output_type": "display_data"
    },
    {
     "data": {
      "text/plain": [
       "title                        Alliance: Heroes of the Spire\n",
       "desc     welcom allianc hero spire latest rpg collect p...\n",
       "Name: 509, dtype: object"
      ]
     },
     "metadata": {},
     "output_type": "display_data"
    }
   ],
   "source": [
    "find_k_similar_docs(\"The hero controls the dragon to run.\", vectorizer, tfidf, 5)"
   ]
  }
 ],
 "metadata": {
  "kernelspec": {
   "display_name": "Python 3",
   "language": "python",
   "name": "python3"
  },
  "language_info": {
   "codemirror_mode": {
    "name": "ipython",
    "version": 3
   },
   "file_extension": ".py",
   "mimetype": "text/x-python",
   "name": "python",
   "nbconvert_exporter": "python",
   "pygments_lexer": "ipython3",
   "version": "3.6.3"
  }
 },
 "nbformat": 4,
 "nbformat_minor": 2
}
